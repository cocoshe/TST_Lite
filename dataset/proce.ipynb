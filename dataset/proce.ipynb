{
 "cells": [
  {
   "cell_type": "code",
   "execution_count": 5,
   "metadata": {
    "collapsed": true
   },
   "outputs": [
    {
     "name": "stdout",
     "output_type": "stream",
     "text": [
      "          0         1         2         3         4         5     6\n",
      "0  0.230020  5.072578 -0.276061  0.832444 -0.377866  0.480322  '-1'\n",
      "1  0.155491 -0.169390  0.670652 -0.859553 -0.377866 -0.945723  '-1'\n",
      "2 -0.784415 -0.443654  5.674705 -0.859553 -0.377866 -0.945723  '-1'\n",
      "3  0.546088  0.131415 -0.456387 -0.859553 -0.377866 -0.945723  '-1'\n",
      "4 -0.102987 -0.394994 -0.140816  0.979703 -0.377866  1.013566  '-1'\n"
     ]
    }
   ],
   "source": [
    "import pandas as pd\n",
    "\n",
    "df = pd.read_csv('mammography.csv', header=None)\n",
    "print(df.head())"
   ]
  },
  {
   "cell_type": "code",
   "execution_count": 10,
   "outputs": [],
   "source": [
    "label = df[6]\n",
    "label = label.str.strip(\"'\")"
   ],
   "metadata": {
    "collapsed": false,
    "pycharm": {
     "name": "#%%\n"
    }
   }
  },
  {
   "cell_type": "code",
   "execution_count": 11,
   "outputs": [
    {
     "data": {
      "text/plain": "0        -1\n1        -1\n2        -1\n3        -1\n4        -1\n         ..\n11178     1\n11179     1\n11180     1\n11181     1\n11182     1\nName: 6, Length: 11183, dtype: object"
     },
     "execution_count": 11,
     "metadata": {},
     "output_type": "execute_result"
    }
   ],
   "source": [
    "label"
   ],
   "metadata": {
    "collapsed": false,
    "pycharm": {
     "name": "#%%\n"
    }
   }
  },
  {
   "cell_type": "code",
   "execution_count": 12,
   "outputs": [],
   "source": [
    "df[6] = label\n"
   ],
   "metadata": {
    "collapsed": false,
    "pycharm": {
     "name": "#%%\n"
    }
   }
  },
  {
   "cell_type": "code",
   "execution_count": 13,
   "outputs": [
    {
     "data": {
      "text/plain": "              0         1         2         3         4         5   6\n0      0.230020  5.072578 -0.276061  0.832444 -0.377866  0.480322  -1\n1      0.155491 -0.169390  0.670652 -0.859553 -0.377866 -0.945723  -1\n2     -0.784415 -0.443654  5.674705 -0.859553 -0.377866 -0.945723  -1\n3      0.546088  0.131415 -0.456387 -0.859553 -0.377866 -0.945723  -1\n4     -0.102987 -0.394994 -0.140816  0.979703 -0.377866  1.013566  -1\n...         ...       ...       ...       ...       ...       ...  ..\n11178 -0.250012 -0.377300 -0.321142  1.269157  3.652984  1.092791   1\n11179  0.281343 -0.417112 -0.366224  0.851010  2.789649  1.345700   1\n11180  1.204988  1.763724 -0.501468  1.562408  6.489072  0.931294   1\n11181  0.736644 -0.222474 -0.050653  1.509665  0.539269  1.315229   1\n11182  0.177003 -0.191508 -0.501468  1.578864  7.750705  1.555951   1\n\n[11183 rows x 7 columns]",
      "text/html": "<div>\n<style scoped>\n    .dataframe tbody tr th:only-of-type {\n        vertical-align: middle;\n    }\n\n    .dataframe tbody tr th {\n        vertical-align: top;\n    }\n\n    .dataframe thead th {\n        text-align: right;\n    }\n</style>\n<table border=\"1\" class=\"dataframe\">\n  <thead>\n    <tr style=\"text-align: right;\">\n      <th></th>\n      <th>0</th>\n      <th>1</th>\n      <th>2</th>\n      <th>3</th>\n      <th>4</th>\n      <th>5</th>\n      <th>6</th>\n    </tr>\n  </thead>\n  <tbody>\n    <tr>\n      <th>0</th>\n      <td>0.230020</td>\n      <td>5.072578</td>\n      <td>-0.276061</td>\n      <td>0.832444</td>\n      <td>-0.377866</td>\n      <td>0.480322</td>\n      <td>-1</td>\n    </tr>\n    <tr>\n      <th>1</th>\n      <td>0.155491</td>\n      <td>-0.169390</td>\n      <td>0.670652</td>\n      <td>-0.859553</td>\n      <td>-0.377866</td>\n      <td>-0.945723</td>\n      <td>-1</td>\n    </tr>\n    <tr>\n      <th>2</th>\n      <td>-0.784415</td>\n      <td>-0.443654</td>\n      <td>5.674705</td>\n      <td>-0.859553</td>\n      <td>-0.377866</td>\n      <td>-0.945723</td>\n      <td>-1</td>\n    </tr>\n    <tr>\n      <th>3</th>\n      <td>0.546088</td>\n      <td>0.131415</td>\n      <td>-0.456387</td>\n      <td>-0.859553</td>\n      <td>-0.377866</td>\n      <td>-0.945723</td>\n      <td>-1</td>\n    </tr>\n    <tr>\n      <th>4</th>\n      <td>-0.102987</td>\n      <td>-0.394994</td>\n      <td>-0.140816</td>\n      <td>0.979703</td>\n      <td>-0.377866</td>\n      <td>1.013566</td>\n      <td>-1</td>\n    </tr>\n    <tr>\n      <th>...</th>\n      <td>...</td>\n      <td>...</td>\n      <td>...</td>\n      <td>...</td>\n      <td>...</td>\n      <td>...</td>\n      <td>...</td>\n    </tr>\n    <tr>\n      <th>11178</th>\n      <td>-0.250012</td>\n      <td>-0.377300</td>\n      <td>-0.321142</td>\n      <td>1.269157</td>\n      <td>3.652984</td>\n      <td>1.092791</td>\n      <td>1</td>\n    </tr>\n    <tr>\n      <th>11179</th>\n      <td>0.281343</td>\n      <td>-0.417112</td>\n      <td>-0.366224</td>\n      <td>0.851010</td>\n      <td>2.789649</td>\n      <td>1.345700</td>\n      <td>1</td>\n    </tr>\n    <tr>\n      <th>11180</th>\n      <td>1.204988</td>\n      <td>1.763724</td>\n      <td>-0.501468</td>\n      <td>1.562408</td>\n      <td>6.489072</td>\n      <td>0.931294</td>\n      <td>1</td>\n    </tr>\n    <tr>\n      <th>11181</th>\n      <td>0.736644</td>\n      <td>-0.222474</td>\n      <td>-0.050653</td>\n      <td>1.509665</td>\n      <td>0.539269</td>\n      <td>1.315229</td>\n      <td>1</td>\n    </tr>\n    <tr>\n      <th>11182</th>\n      <td>0.177003</td>\n      <td>-0.191508</td>\n      <td>-0.501468</td>\n      <td>1.578864</td>\n      <td>7.750705</td>\n      <td>1.555951</td>\n      <td>1</td>\n    </tr>\n  </tbody>\n</table>\n<p>11183 rows × 7 columns</p>\n</div>"
     },
     "execution_count": 13,
     "metadata": {},
     "output_type": "execute_result"
    }
   ],
   "source": [
    "df"
   ],
   "metadata": {
    "collapsed": false,
    "pycharm": {
     "name": "#%%\n"
    }
   }
  },
  {
   "cell_type": "code",
   "execution_count": 15,
   "outputs": [],
   "source": [
    "df.to_csv('mammography_label.csv', index=False, header=False)"
   ],
   "metadata": {
    "collapsed": false,
    "pycharm": {
     "name": "#%%\n"
    }
   }
  },
  {
   "cell_type": "code",
   "execution_count": null,
   "outputs": [],
   "source": [],
   "metadata": {
    "collapsed": false,
    "pycharm": {
     "name": "#%%\n"
    }
   }
  }
 ],
 "metadata": {
  "kernelspec": {
   "name": "python3",
   "language": "python",
   "display_name": "Python 3 (ipykernel)"
  },
  "language_info": {
   "codemirror_mode": {
    "name": "ipython",
    "version": 2
   },
   "file_extension": ".py",
   "mimetype": "text/x-python",
   "name": "python",
   "nbconvert_exporter": "python",
   "pygments_lexer": "ipython2",
   "version": "2.7.6"
  }
 },
 "nbformat": 4,
 "nbformat_minor": 0
}